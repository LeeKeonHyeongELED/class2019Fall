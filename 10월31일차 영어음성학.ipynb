{
 "cells": [
  {
   "cell_type": "markdown",
   "metadata": {},
   "source": [
    "10월 10일. code 말고 markdown하면 필기. 실행 안됌. 주석. "
   ]
  },
  {
   "cell_type": "markdown",
   "metadata": {},
   "source": [
    "Syntax"
   ]
  },
  {
   "cell_type": "code",
   "execution_count": 5,
   "metadata": {},
   "outputs": [
    {
     "name": "stdout",
     "output_type": "stream",
     "text": [
      "1\n",
      "2\n",
      "3\n",
      "4\n"
     ]
    }
   ],
   "source": [
    "a=[1,2,3,4]\n",
    "for x in a:     #in뒤에 있는것을 하나하나씩 돌려서 x가 그걸 하나씩 받아서 밑에 있는것을 수행해라.\n",
    "    print(x)"
   ]
  },
  {
   "cell_type": "code",
   "execution_count": 7,
   "metadata": {},
   "outputs": [
    {
     "name": "stdout",
     "output_type": "stream",
     "text": [
      "1\n",
      "2\n",
      "3\n",
      "4\n"
     ]
    }
   ],
   "source": [
    "a=[1,2,3,4]\n",
    "for x in range(4):            #range(x) 하면 x개의 index를 만들어라라는뜻. index는 0부터 시작.\n",
    "    print(a[x])"
   ]
  },
  {
   "cell_type": "code",
   "execution_count": 8,
   "metadata": {},
   "outputs": [
    {
     "name": "stdout",
     "output_type": "stream",
     "text": [
      "0\n",
      "1\n",
      "2\n",
      "3\n"
     ]
    }
   ],
   "source": [
    "a=[1,2,3,4]\n",
    "for x in range(4):\n",
    "    print(x)              #그냥 index4개니깐 0,1,2,3 4개가 프린트됌"
   ]
  },
  {
   "cell_type": "code",
   "execution_count": 9,
   "metadata": {
    "scrolled": true
   },
   "outputs": [
    {
     "name": "stdout",
     "output_type": "stream",
     "text": [
      "1\n",
      "2\n",
      "3\n",
      "4\n",
      "5\n",
      "6\n",
      "7\n"
     ]
    }
   ],
   "source": [
    "a=[1,2,3,4,5,6,7]\n",
    "for x in range(len(a)):   #len(a): a의 길이\n",
    "    print(a[x])"
   ]
  },
  {
   "cell_type": "code",
   "execution_count": 10,
   "metadata": {
    "scrolled": true
   },
   "outputs": [
    {
     "name": "stdout",
     "output_type": "stream",
     "text": [
      "red\n",
      "green\n",
      "blue\n",
      "purple\n"
     ]
    }
   ],
   "source": [
    "a=['red','green', 'blue', 'purple']\n",
    "for x in a:\n",
    "    print(x)"
   ]
  },
  {
   "cell_type": "code",
   "execution_count": 11,
   "metadata": {
    "scrolled": true
   },
   "outputs": [
    {
     "name": "stdout",
     "output_type": "stream",
     "text": [
      "red\n",
      "green\n",
      "blue\n",
      "purple\n"
     ]
    }
   ],
   "source": [
    "a=['red','green', 'blue', 'purple']\n",
    "for x in range(len(a)):\n",
    "    print(a[x])"
   ]
  },
  {
   "cell_type": "code",
   "execution_count": 12,
   "metadata": {},
   "outputs": [
    {
     "name": "stdout",
     "output_type": "stream",
     "text": [
      "red\n",
      "green\n",
      "blue\n",
      "purple\n"
     ]
    }
   ],
   "source": [
    "a=['red','green', 'blue', 'purple']\n",
    "b=[0.1,0.2,0.3,0.4]\n",
    "\n",
    "for x,y in enumerate(a):             #enumerate: 어떤 리스트에 쓰면 그 아웃풋 값이 자기자신+그것에대한 번호 매겨줌.x는 번호, y는 그것.\n",
    "    print(a[x])"
   ]
  },
  {
   "cell_type": "code",
   "execution_count": 14,
   "metadata": {},
   "outputs": [
    {
     "name": "stdout",
     "output_type": "stream",
     "text": [
      "red: 10.0%\n",
      "green: 20.0%\n",
      "blue: 30.0%\n",
      "purple: 40.0%\n"
     ]
    }
   ],
   "source": [
    "a=['red','green', 'blue', 'purple']\n",
    "b=[0.1,0.2,0.3,0.4]\n",
    "\n",
    "for x,y in enumerate(a):             #enumerate: 어떤 리스트에 쓰면 그 아웃풋 값이 자기자신+그것에대한 번호 매겨줌\n",
    "    print(\"{}: {}%\".format(y,b[x]*100))"
   ]
  },
  {
   "cell_type": "code",
   "execution_count": 15,
   "metadata": {},
   "outputs": [
    {
     "name": "stdout",
     "output_type": "stream",
     "text": [
      "red: 10.0%\n",
      "green: 20.0%\n",
      "blue: 30.0%\n",
      "purple: 40.0%\n"
     ]
    }
   ],
   "source": [
    "a=['red','green', 'blue', 'purple']\n",
    "b=[0.1,0.2,0.3,0.4]\n",
    "\n",
    "for x,y in zip(a,b):             #하나로 합쳐짐. 리스트의 길이 같아야함.\n",
    "    print(\"{}: {}%\".format(x,y*100))"
   ]
  },
  {
   "cell_type": "code",
   "execution_count": 17,
   "metadata": {},
   "outputs": [
    {
     "name": "stdout",
     "output_type": "stream",
     "text": [
      "yay!\n",
      "let's go\n"
     ]
    }
   ],
   "source": [
    "a=0\n",
    "if a==0:\n",
    "    print(\"yay!\")\n",
    "    print(\"let's go\")   #indent하고 print 여러개 해도 됌. !=는 ~가 아닐때 라는 뜻"
   ]
  },
  {
   "cell_type": "code",
   "execution_count": 18,
   "metadata": {},
   "outputs": [
    {
     "name": "stdout",
     "output_type": "stream",
     "text": [
      "yay!\n",
      "let's go\n"
     ]
    }
   ],
   "source": [
    "a=0\n",
    "if a>=0:                              #부등호가 먼저 나와야됌. =>라고 하면 순서 실행 안됌.\n",
    "    print(\"yay!\")\n",
    "    print(\"let's go\")   "
   ]
  },
  {
   "cell_type": "code",
   "execution_count": 19,
   "metadata": {},
   "outputs": [
    {
     "name": "stdout",
     "output_type": "stream",
     "text": [
      "No\n"
     ]
    }
   ],
   "source": [
    "a=0\n",
    "if a!=0:                              \n",
    "    print(\"let's go\")   \n",
    "else:\n",
    "    print(\"No\")"
   ]
  },
  {
   "cell_type": "code",
   "execution_count": 20,
   "metadata": {},
   "outputs": [
    {
     "name": "stdout",
     "output_type": "stream",
     "text": [
      "3\n",
      "4\n",
      "6\n",
      "8\n"
     ]
    }
   ],
   "source": [
    "for x in range(1,3):\n",
    "    for y in range(3,5):\n",
    "        print(x*y)"
   ]
  },
  {
   "cell_type": "code",
   "execution_count": 21,
   "metadata": {},
   "outputs": [
    {
     "name": "stdout",
     "output_type": "stream",
     "text": [
      "1\n",
      "3\n",
      "4\n",
      "2\n",
      "6\n",
      "8\n"
     ]
    }
   ],
   "source": [
    "for x in range(1,3):\n",
    "    print(x)\n",
    "    for y in range(3,5):\n",
    "        print(x*y)"
   ]
  },
  {
   "cell_type": "code",
   "execution_count": 22,
   "metadata": {},
   "outputs": [
    {
     "name": "stdout",
     "output_type": "stream",
     "text": [
      "4\n",
      "8\n"
     ]
    }
   ],
   "source": [
    "for x in range(1,3):\n",
    "    for y in range(3,5):\n",
    "        if y>=4:\n",
    "            print(x*y)"
   ]
  },
  {
   "cell_type": "code",
   "execution_count": null,
   "metadata": {},
   "outputs": [],
   "source": [
    "for x in range(1,3):\n",
    "    if x>=3:\n",
    "    for y in range(3,5):              #이렇게하면 if 다음 indent가 안되서 error뜸\n",
    "        print(x*y)"
   ]
  },
  {
   "cell_type": "code",
   "execution_count": 24,
   "metadata": {},
   "outputs": [],
   "source": [
    "for x in range(1,3):\n",
    "    if x>=3:\n",
    "        for y in range(3,5):              \n",
    "            print(x*y)          #3 넘는게 없어서 안나옴."
   ]
  },
  {
   "cell_type": "code",
   "execution_count": null,
   "metadata": {},
   "outputs": [],
   "source": []
  }
 ],
 "metadata": {
  "kernelspec": {
   "display_name": "Python 3",
   "language": "python",
   "name": "python3"
  },
  "language_info": {
   "codemirror_mode": {
    "name": "ipython",
    "version": 3
   },
   "file_extension": ".py",
   "mimetype": "text/x-python",
   "name": "python",
   "nbconvert_exporter": "python",
   "pygments_lexer": "ipython3",
   "version": "3.7.3"
  }
 },
 "nbformat": 4,
 "nbformat_minor": 2
}

10월31일
